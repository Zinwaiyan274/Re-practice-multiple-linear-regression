{
  "nbformat": 4,
  "nbformat_minor": 0,
  "metadata": {
    "colab": {
      "name": "linear regression revision",
      "provenance": [],
      "authorship_tag": "ABX9TyPVsgT16CeUzXyYMnvk3MTR",
      "include_colab_link": true
    },
    "kernelspec": {
      "name": "python3",
      "display_name": "Python 3"
    },
    "language_info": {
      "name": "python"
    }
  },
  "cells": [
    {
      "cell_type": "markdown",
      "metadata": {
        "id": "view-in-github",
        "colab_type": "text"
      },
      "source": [
        "<a href=\"https://colab.research.google.com/github/Zinwaiyan274/Re-practice-multiple-linear-regression/blob/main/linear_regression_revision.ipynb\" target=\"_parent\"><img src=\"https://colab.research.google.com/assets/colab-badge.svg\" alt=\"Open In Colab\"/></a>"
      ]
    },
    {
      "cell_type": "code",
      "execution_count": null,
      "metadata": {
        "id": "qmZvJvua8dBl"
      },
      "outputs": [],
      "source": [
        "import pandas as pd"
      ]
    },
    {
      "cell_type": "code",
      "source": [
        "tr_data = pd.read_csv(\"/content/sample_data/california_housing_train.csv\")\n",
        "te_data = pd.read_csv(\"/content/sample_data/california_housing_test.csv\")"
      ],
      "metadata": {
        "id": "V3dfwfV_8rwK"
      },
      "execution_count": null,
      "outputs": []
    },
    {
      "cell_type": "code",
      "source": [
        "tr_data.isnull().values.any()"
      ],
      "metadata": {
        "colab": {
          "base_uri": "https://localhost:8080/"
        },
        "id": "z53CbHzuTKBx",
        "outputId": "efb75bf5-ec23-4198-aef1-957ac9f87483"
      },
      "execution_count": null,
      "outputs": [
        {
          "output_type": "execute_result",
          "data": {
            "text/plain": [
              "False"
            ]
          },
          "metadata": {},
          "execution_count": 3
        }
      ]
    },
    {
      "cell_type": "code",
      "source": [
        "te_data.isnull().values.any()\n",
        "# Since there is no null values in both train and test data, don't need to drop nuull values"
      ],
      "metadata": {
        "colab": {
          "base_uri": "https://localhost:8080/"
        },
        "id": "2hSkaQQ6947T",
        "outputId": "27782f73-599e-41fc-c225-e78bdb8f1907"
      },
      "execution_count": null,
      "outputs": [
        {
          "output_type": "execute_result",
          "data": {
            "text/plain": [
              "False"
            ]
          },
          "metadata": {},
          "execution_count": 4
        }
      ]
    },
    {
      "cell_type": "code",
      "source": [
        "#data prepocessiong, segmetation\n",
        "\n",
        "train_data = tr_data.iloc[:,:-1].values\n",
        "price_train_data = tr_data.iloc[:,-1].values\n",
        "\n",
        "test_data = te_data.iloc[:,:-1].values\n",
        "price_test_data = te_data.iloc[:,-1].values\n"
      ],
      "metadata": {
        "id": "G1KZOiKyHvrQ"
      },
      "execution_count": null,
      "outputs": []
    },
    {
      "cell_type": "code",
      "source": [
        "import sklearn\n",
        "from sklearn.linear_model import LinearRegression\n",
        "model = sklearn.linear_model.LinearRegression()"
      ],
      "metadata": {
        "id": "H1YpLEbHTjCj"
      },
      "execution_count": null,
      "outputs": []
    },
    {
      "cell_type": "code",
      "source": [
        "model.fit(train_data,price_train_data)"
      ],
      "metadata": {
        "colab": {
          "base_uri": "https://localhost:8080/"
        },
        "id": "oB6kp9t3V44E",
        "outputId": "1763cf5f-850a-4070-c698-c54d9c6e6129"
      },
      "execution_count": null,
      "outputs": [
        {
          "output_type": "execute_result",
          "data": {
            "text/plain": [
              "LinearRegression()"
            ]
          },
          "metadata": {},
          "execution_count": 41
        }
      ]
    },
    {
      "cell_type": "code",
      "source": [
        "test_predict = model.predict(test_data)\n",
        "test_predict"
      ],
      "metadata": {
        "colab": {
          "base_uri": "https://localhost:8080/"
        },
        "id": "ALFf7eY8Wpqo",
        "outputId": "da58e177-c6c3-4257-f164-9e810002f112"
      },
      "execution_count": null,
      "outputs": [
        {
          "output_type": "execute_result",
          "data": {
            "text/plain": [
              "array([352812.31112454, 212717.70074518, 272344.69951888, ...,\n",
              "        88220.58643733, 146374.67481457, 456779.61107787])"
            ]
          },
          "metadata": {},
          "execution_count": 45
        }
      ]
    },
    {
      "cell_type": "code",
      "source": [
        "price_test_data"
      ],
      "metadata": {
        "colab": {
          "base_uri": "https://localhost:8080/"
        },
        "id": "nL4bE3BzXWtb",
        "outputId": "f9298c25-950d-475c-81c9-d2dfc8b8672b"
      },
      "execution_count": null,
      "outputs": [
        {
          "output_type": "execute_result",
          "data": {
            "text/plain": [
              "array([344700., 176500., 270500., ...,  62000., 162500., 500001.])"
            ]
          },
          "metadata": {},
          "execution_count": 46
        }
      ]
    },
    {
      "cell_type": "code",
      "source": [
        "# Evenluration\n",
        "mean_square_error = sum([(test-predict)**2 for test, predict in zip(price_test_data,test_predict)])/len(test_predict)\n",
        "mean_square_error"
      ],
      "metadata": {
        "colab": {
          "base_uri": "https://localhost:8080/"
        },
        "id": "FkwjDfGMjpKq",
        "outputId": "bd4d412d-0b80-4622-f928-0fdf341d37d1"
      },
      "execution_count": null,
      "outputs": [
        {
          "output_type": "execute_result",
          "data": {
            "text/plain": [
              "4867205486.928794"
            ]
          },
          "metadata": {},
          "execution_count": 66
        }
      ]
    }
  ]
}